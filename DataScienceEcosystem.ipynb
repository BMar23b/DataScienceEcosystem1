{
 "cells": [
  {
   "cell_type": "markdown",
   "id": "cf167a3e-28b3-4b31-9e47-b948d67008ad",
   "metadata": {
    "tags": []
   },
   "source": [
    "# Data Science Tools and Ecosystem"
   ]
  },
  {
   "cell_type": "markdown",
   "id": "152910e4-ece3-4e5f-8c9e-1ffc187f161b",
   "metadata": {},
   "source": [
    "In this notebook, Data Science Tools and Ecosystem are Summarized"
   ]
  },
  {
   "cell_type": "markdown",
   "id": "d84b466c-40c6-445a-b607-c42f68ac0915",
   "metadata": {},
   "source": [
    "**Objectives:**\n",
    "- Python\n",
    "- R\n",
    "- SQL\n",
    "- Scala\n",
    "- Julia"
   ]
  },
  {
   "cell_type": "markdown",
   "id": "e391e81c-7f2b-427b-b647-1070f6544e51",
   "metadata": {},
   "source": [
    "Some of the popular languages that Data Scientists use are:\n",
    "1. Python\n",
    "2. R\n",
    "3. SQL"
   ]
  },
  {
   "cell_type": "markdown",
   "id": "3c97b599-8244-426d-af58-4b1c8e0fdc74",
   "metadata": {},
   "source": [
    "Some of the commonly used libraries used by Data Scientists include:\n",
    "1. SciPy\n",
    "2. Pandas\n",
    "3. NumPy"
   ]
  },
  {
   "cell_type": "markdown",
   "id": "e2b7d765-3adc-48c9-9ca3-eabfc7bebb73",
   "metadata": {
    "tags": []
   },
   "source": [
    "| Data Science Tools |\n",
    "|-------------------|\n",
    "| RStudio |\n",
    "| Apache Spark |\n",
    "| Apache Hadoop |"
   ]
  },
  {
   "cell_type": "markdown",
   "id": "2ac661b7-d503-47bc-9380-62f2615755c1",
   "metadata": {
    "tags": []
   },
   "source": [
    "### Below are a few examples of evaluating arithmetic expressions in Python"
   ]
  },
  {
   "cell_type": "code",
   "execution_count": 7,
   "id": "6fbd660c-d959-45d8-9241-a01f35382f07",
   "metadata": {},
   "outputs": [
    {
     "data": {
      "text/plain": [
       "17"
      ]
     },
     "execution_count": 7,
     "metadata": {},
     "output_type": "execute_result"
    }
   ],
   "source": [
    "This is a simple arithmetic expression to multiply then add integers 3*4+5 "
   ]
  },
  {
   "cell_type": "code",
   "execution_count": 9,
   "id": "d05ba2e8-e8e9-492b-8db4-73b0f8dcd177",
   "metadata": {},
   "outputs": [
    {
     "data": {
      "text/plain": [
       "3.3333333333333335"
      ]
     },
     "execution_count": 9,
     "metadata": {},
     "output_type": "execute_result"
    }
   ],
   "source": [
    "This will convert 200 minutes into hours by dividing 60 200/60"
   ]
  },
  {
   "cell_type": "markdown",
   "id": "04f0c1fe-deb0-4e11-9464-017877eeb11b",
   "metadata": {},
   "source": [
    "## Author\n",
    "Bon Marinas"
   ]
  }
 ],
 "metadata": {
  "kernelspec": {
   "display_name": "anaconda-panel-2023.05-py310",
   "language": "python",
   "name": "conda-env-anaconda-panel-2023.05-py310-py"
  },
  "language_info": {
   "codemirror_mode": {
    "name": "ipython",
    "version": 3
   },
   "file_extension": ".py",
   "mimetype": "text/x-python",
   "name": "python",
   "nbconvert_exporter": "python",
   "pygments_lexer": "ipython3",
   "version": "3.11.3"
  }
 },
 "nbformat": 4,
 "nbformat_minor": 5
}
